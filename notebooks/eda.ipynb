{
 "cells": [
  {
   "cell_type": "markdown",
   "metadata": {},
   "source": [
    "<body>\n",
    "     <h1> <b> Generalidades </b> <br> <i> Overview </i> <br> Análisis Exploratorio de Datos <br> <i> Exploratory Data Analysis </i> </h1>\n",
    "     <p> Análisis remcomendado <br>\n",
    "     <i> Recommended analisys: </i>\n",
    "     <ol>\n",
    "          <li> ¿Cómo varía el volumen global de vuelos por mes? ¿Por día de la semana? <br>\n",
    "          <i> How does the overall flight volume vary by month? By day of week? </i> </li>\n",
    "          <li> ¿Qué porcentaje de vuelos experimentaron un retraso en la salida en 2015? Entre esos vuelos, ¿cuál fue el tiempo medio de retraso, en minutos? <br> \n",
    "          <i> What percentage of flights in experienced a departure delay in 2015? Among those flights, what was the average delay time, in minutes? </i> </li>\n",
    "          <li> ¿Cómo varía el porcentaje de vuelos retrasados a lo largo del año? ¿Y en el caso de los vuelos que salen de Boston (BOS) específicamente? <br> <i> How does the % of delayed flights vary throughout the year? What about for flights leaving from Boston (BOS) specifically? </i> </li>\n",
    "          <li> Cuántos vuelos se cancelaron en 2015? ¿Qué porcentaje de cancelaciones se debieron a las condiciones meteorológicas? ¿Qué porcentaje se debió a la aerolínea/compañía aérea? <br> <i> How many flights were cancelled in 2015? What % of cancellations were due to weather? What % were due to the Airline/Carrier? </i> </li>\n",
    "          <li> ¿Qué aerolíneas parecen ser más y menos fiables, en cuanto a la puntualidad de las salidas? <br> <i> Which airlines seem to be most and least reliable, in terms of on-time departure? </i> </li>\n",
    "     </p> \n",
    "</body>\n"
   ]
  },
  {
   "cell_type": "markdown",
   "metadata": {},
   "source": [
    "---\n",
    "\n",
    "<body>\n",
    "     <h1> <b> Imoportación de la Librerías Requeridas </b> <br> <i> Import Require Dependencies </i> </h1>\n",
    "</body>\n"
   ]
  },
  {
   "cell_type": "code",
   "execution_count": 1,
   "metadata": {},
   "outputs": [],
   "source": [
    "# Librerías para procesamiento de datos:\n",
    "import numpy as np\n",
    "import pandas as pd\n",
    "\n",
    "# Librerías para visualización de datos:\n",
    "import seaborn as sns\n",
    "import matplotlib.pyplot as plt\n",
    "import plotly.graph_objs as go\n",
    "import plotly as plotly"
   ]
  },
  {
   "cell_type": "markdown",
   "metadata": {},
   "source": [
    "---\n",
    "\n",
    "<body>\n",
    "     <h1> <b> Carga de los Datos en Dataframes </b> <br> <i> Set the Data </i> </h1>\n",
    "     \n",
    "</body>\n"
   ]
  },
  {
   "cell_type": "markdown",
   "metadata": {},
   "source": [
    "<body>\n",
    "    <h2> Airlines </h2>\n",
    "</body>\n"
   ]
  },
  {
   "cell_type": "code",
   "execution_count": null,
   "metadata": {},
   "outputs": [],
   "source": [
    "# Declarar los argumentos para cargar los datos en datasets: aerolíneas\n",
    "# / Define arguments to read the data: airlines.\n",
    "# Filepath.\n",
    "DIR_PATH01 = \"../data/external/airlines.csv\"\n",
    "# Encoding.\n",
    "ENC01 = \"utf-8\"\n",
    "# Separator.\n",
    "SEP01 = \",\"\n",
    "\n",
    "# Instanciar el dataframe (df)/ Read data\n",
    "airlines_df = pd.read_csv(\n",
    "    filepath_or_buffer=DIR_PATH01, sep=SEP01, encoding=ENC01)\n",
    "\n",
    "# Inspeccionar el df/ Inspect df\n",
    "airlines_df.head()"
   ]
  },
  {
   "cell_type": "markdown",
   "metadata": {},
   "source": [
    "<body>\n",
    "    <h2> Airports </h2>\n",
    "</body>\n"
   ]
  },
  {
   "cell_type": "code",
   "execution_count": null,
   "metadata": {},
   "outputs": [],
   "source": [
    "# Declarar los argumentos para cargar los datos en datasets: aeropuertos\n",
    "# / Define arguments to read the data: airports.\n",
    "# Filepath.\n",
    "DIR_PATH02 = \"../data/external/airports.csv\"\n",
    "# Encoding.\n",
    "ENC02 = \"utf-8\"\n",
    "# Separator.\n",
    "SEP02 = \",\"\n",
    "\n",
    "# Instanciar el dataframe (df)/ Read data\n",
    "airports_df = pd.read_csv(\n",
    "    filepath_or_buffer=DIR_PATH02, sep=SEP02, encoding=ENC02)\n",
    "\n",
    "# Inspeccionar el df/ Inspect df\n",
    "airports_df.head()"
   ]
  },
  {
   "cell_type": "markdown",
   "metadata": {},
   "source": [
    "<body>\n",
    "    <h2> Cancellation Codes </h2>\n",
    "</body>\n"
   ]
  },
  {
   "cell_type": "code",
   "execution_count": null,
   "metadata": {},
   "outputs": [],
   "source": [
    "# Declarar los argumentos para cargar los datos en datasets: cancelaciones\n",
    "# / Define arguments to read the data: cancellations.\n",
    "# Filepath.\n",
    "DIR_PATH03 = \"../data/external/cancellation_codes.csv\"\n",
    "# Encoding.\n",
    "ENC03 = \"utf-8\"\n",
    "# Separator.\n",
    "SEP03 = \",\"\n",
    "\n",
    "# Instanciar el dataframe (df)/ Read data\n",
    "cancellation_codes_df = pd.read_csv(\n",
    "    filepath_or_buffer=DIR_PATH03, sep=SEP03, encoding=ENC03)\n",
    "\n",
    "# Inspeccionar el df/ Inspect df\n",
    "cancellation_codes_df.head()\n"
   ]
  },
  {
   "cell_type": "markdown",
   "metadata": {},
   "source": [
    "<body>\n",
    "    <h2> Flights </h2>\n",
    "</body>\n"
   ]
  },
  {
   "cell_type": "code",
   "execution_count": 2,
   "metadata": {},
   "outputs": [
    {
     "name": "stderr",
     "output_type": "stream",
     "text": [
      "/tmp/ipykernel_4767/3315988940.py:11: DtypeWarning: Columns (7,8) have mixed types. Specify dtype option on import or set low_memory=False.\n",
      "  flights_df = pd.read_csv(\n"
     ]
    },
    {
     "data": {
      "text/html": [
       "<div>\n",
       "<style scoped>\n",
       "    .dataframe tbody tr th:only-of-type {\n",
       "        vertical-align: middle;\n",
       "    }\n",
       "\n",
       "    .dataframe tbody tr th {\n",
       "        vertical-align: top;\n",
       "    }\n",
       "\n",
       "    .dataframe thead th {\n",
       "        text-align: right;\n",
       "    }\n",
       "</style>\n",
       "<table border=\"1\" class=\"dataframe\">\n",
       "  <thead>\n",
       "    <tr style=\"text-align: right;\">\n",
       "      <th></th>\n",
       "      <th>YEAR</th>\n",
       "      <th>MONTH</th>\n",
       "      <th>DAY</th>\n",
       "      <th>DAY_OF_WEEK</th>\n",
       "      <th>AIRLINE</th>\n",
       "      <th>FLIGHT_NUMBER</th>\n",
       "      <th>TAIL_NUMBER</th>\n",
       "      <th>ORIGIN_AIRPORT</th>\n",
       "      <th>DESTINATION_AIRPORT</th>\n",
       "      <th>SCHEDULED_DEPARTURE</th>\n",
       "      <th>...</th>\n",
       "      <th>ARRIVAL_TIME</th>\n",
       "      <th>ARRIVAL_DELAY</th>\n",
       "      <th>DIVERTED</th>\n",
       "      <th>CANCELLED</th>\n",
       "      <th>CANCELLATION_REASON</th>\n",
       "      <th>AIR_SYSTEM_DELAY</th>\n",
       "      <th>SECURITY_DELAY</th>\n",
       "      <th>AIRLINE_DELAY</th>\n",
       "      <th>LATE_AIRCRAFT_DELAY</th>\n",
       "      <th>WEATHER_DELAY</th>\n",
       "    </tr>\n",
       "  </thead>\n",
       "  <tbody>\n",
       "    <tr>\n",
       "      <th>0</th>\n",
       "      <td>2015</td>\n",
       "      <td>1</td>\n",
       "      <td>1</td>\n",
       "      <td>4</td>\n",
       "      <td>AS</td>\n",
       "      <td>98</td>\n",
       "      <td>N407AS</td>\n",
       "      <td>ANC</td>\n",
       "      <td>SEA</td>\n",
       "      <td>5</td>\n",
       "      <td>...</td>\n",
       "      <td>408.0</td>\n",
       "      <td>-22.0</td>\n",
       "      <td>0</td>\n",
       "      <td>0</td>\n",
       "      <td>NaN</td>\n",
       "      <td>NaN</td>\n",
       "      <td>NaN</td>\n",
       "      <td>NaN</td>\n",
       "      <td>NaN</td>\n",
       "      <td>NaN</td>\n",
       "    </tr>\n",
       "    <tr>\n",
       "      <th>1</th>\n",
       "      <td>2015</td>\n",
       "      <td>1</td>\n",
       "      <td>1</td>\n",
       "      <td>4</td>\n",
       "      <td>AA</td>\n",
       "      <td>2336</td>\n",
       "      <td>N3KUAA</td>\n",
       "      <td>LAX</td>\n",
       "      <td>PBI</td>\n",
       "      <td>10</td>\n",
       "      <td>...</td>\n",
       "      <td>741.0</td>\n",
       "      <td>-9.0</td>\n",
       "      <td>0</td>\n",
       "      <td>0</td>\n",
       "      <td>NaN</td>\n",
       "      <td>NaN</td>\n",
       "      <td>NaN</td>\n",
       "      <td>NaN</td>\n",
       "      <td>NaN</td>\n",
       "      <td>NaN</td>\n",
       "    </tr>\n",
       "    <tr>\n",
       "      <th>2</th>\n",
       "      <td>2015</td>\n",
       "      <td>1</td>\n",
       "      <td>1</td>\n",
       "      <td>4</td>\n",
       "      <td>US</td>\n",
       "      <td>840</td>\n",
       "      <td>N171US</td>\n",
       "      <td>SFO</td>\n",
       "      <td>CLT</td>\n",
       "      <td>20</td>\n",
       "      <td>...</td>\n",
       "      <td>811.0</td>\n",
       "      <td>5.0</td>\n",
       "      <td>0</td>\n",
       "      <td>0</td>\n",
       "      <td>NaN</td>\n",
       "      <td>NaN</td>\n",
       "      <td>NaN</td>\n",
       "      <td>NaN</td>\n",
       "      <td>NaN</td>\n",
       "      <td>NaN</td>\n",
       "    </tr>\n",
       "    <tr>\n",
       "      <th>3</th>\n",
       "      <td>2015</td>\n",
       "      <td>1</td>\n",
       "      <td>1</td>\n",
       "      <td>4</td>\n",
       "      <td>AA</td>\n",
       "      <td>258</td>\n",
       "      <td>N3HYAA</td>\n",
       "      <td>LAX</td>\n",
       "      <td>MIA</td>\n",
       "      <td>20</td>\n",
       "      <td>...</td>\n",
       "      <td>756.0</td>\n",
       "      <td>-9.0</td>\n",
       "      <td>0</td>\n",
       "      <td>0</td>\n",
       "      <td>NaN</td>\n",
       "      <td>NaN</td>\n",
       "      <td>NaN</td>\n",
       "      <td>NaN</td>\n",
       "      <td>NaN</td>\n",
       "      <td>NaN</td>\n",
       "    </tr>\n",
       "    <tr>\n",
       "      <th>4</th>\n",
       "      <td>2015</td>\n",
       "      <td>1</td>\n",
       "      <td>1</td>\n",
       "      <td>4</td>\n",
       "      <td>AS</td>\n",
       "      <td>135</td>\n",
       "      <td>N527AS</td>\n",
       "      <td>SEA</td>\n",
       "      <td>ANC</td>\n",
       "      <td>25</td>\n",
       "      <td>...</td>\n",
       "      <td>259.0</td>\n",
       "      <td>-21.0</td>\n",
       "      <td>0</td>\n",
       "      <td>0</td>\n",
       "      <td>NaN</td>\n",
       "      <td>NaN</td>\n",
       "      <td>NaN</td>\n",
       "      <td>NaN</td>\n",
       "      <td>NaN</td>\n",
       "      <td>NaN</td>\n",
       "    </tr>\n",
       "  </tbody>\n",
       "</table>\n",
       "<p>5 rows × 31 columns</p>\n",
       "</div>"
      ],
      "text/plain": [
       "   YEAR  MONTH  DAY  DAY_OF_WEEK AIRLINE  FLIGHT_NUMBER TAIL_NUMBER  \\\n",
       "0  2015      1    1            4      AS             98      N407AS   \n",
       "1  2015      1    1            4      AA           2336      N3KUAA   \n",
       "2  2015      1    1            4      US            840      N171US   \n",
       "3  2015      1    1            4      AA            258      N3HYAA   \n",
       "4  2015      1    1            4      AS            135      N527AS   \n",
       "\n",
       "  ORIGIN_AIRPORT DESTINATION_AIRPORT  SCHEDULED_DEPARTURE  ...  ARRIVAL_TIME  \\\n",
       "0            ANC                 SEA                    5  ...         408.0   \n",
       "1            LAX                 PBI                   10  ...         741.0   \n",
       "2            SFO                 CLT                   20  ...         811.0   \n",
       "3            LAX                 MIA                   20  ...         756.0   \n",
       "4            SEA                 ANC                   25  ...         259.0   \n",
       "\n",
       "   ARRIVAL_DELAY  DIVERTED  CANCELLED  CANCELLATION_REASON  AIR_SYSTEM_DELAY  \\\n",
       "0          -22.0         0          0                  NaN               NaN   \n",
       "1           -9.0         0          0                  NaN               NaN   \n",
       "2            5.0         0          0                  NaN               NaN   \n",
       "3           -9.0         0          0                  NaN               NaN   \n",
       "4          -21.0         0          0                  NaN               NaN   \n",
       "\n",
       "   SECURITY_DELAY  AIRLINE_DELAY  LATE_AIRCRAFT_DELAY  WEATHER_DELAY  \n",
       "0             NaN            NaN                  NaN            NaN  \n",
       "1             NaN            NaN                  NaN            NaN  \n",
       "2             NaN            NaN                  NaN            NaN  \n",
       "3             NaN            NaN                  NaN            NaN  \n",
       "4             NaN            NaN                  NaN            NaN  \n",
       "\n",
       "[5 rows x 31 columns]"
      ]
     },
     "execution_count": 2,
     "metadata": {},
     "output_type": "execute_result"
    }
   ],
   "source": [
    "# Declarar los argumentos para cargar los datos en datasets: cancelaciones\n",
    "# / Define arguments to read the data: cancellations.\n",
    "# Filepath.\n",
    "DIR_PATH04 = \"../data/external/flights.csv\"\n",
    "# Encoding.\n",
    "ENC04 = \"utf-8\"\n",
    "# Separator.\n",
    "SEP04 = \",\"\n",
    "\n",
    "# Instanciar el dataframe (df)/ Read data\n",
    "flights_df = pd.read_csv(\n",
    "    filepath_or_buffer=DIR_PATH04, sep=SEP04, encoding=ENC04)\n",
    "\n",
    "# Inspeccionar el df/ Inspect df\n",
    "flights_df.head()"
   ]
  },
  {
   "cell_type": "markdown",
   "metadata": {},
   "source": [
    "## >\n"
   ]
  },
  {
   "cell_type": "markdown",
   "metadata": {},
   "source": [
    "---\n",
    "\n",
    "<body>\n",
    "     <h2> <b> Fuente de Datos: Airlines <br> </b> <i> Data Source: Airlines </i> </h2>\n",
    "</body>\n"
   ]
  },
  {
   "cell_type": "code",
   "execution_count": null,
   "metadata": {},
   "outputs": [],
   "source": [
    "# Inspeccionar estadísticas del df/ Inspect df statistics\n",
    "airlines_df.describe().transpose()\n"
   ]
  },
  {
   "cell_type": "code",
   "execution_count": null,
   "metadata": {},
   "outputs": [],
   "source": [
    "# Identificar variables categóricas y numércias/ Identifie cateorical and numerical vars\n",
    "num_vars = airlines_df.columns[airlines_df.dtypes != \"object\"]\n",
    "cat_vars = airlines_df.columns[airlines_df.dtypes == \"object\"]\n",
    "\n",
    "print(\"Variables numericas:\")\n",
    "for var in num_vars:\n",
    "    print(f\"\\t{var}\")\n",
    "print(\"\\n\")\n",
    "\n",
    "print(\"Variables categóricas:\")\n",
    "for var in cat_vars:\n",
    "    print(f\"\\t{var}\")\n"
   ]
  },
  {
   "cell_type": "code",
   "execution_count": null,
   "metadata": {},
   "outputs": [],
   "source": [
    "# Identificar registros vacíos/ Identifie empty values\n",
    "airlines_df.isna().sum()\n"
   ]
  },
  {
   "cell_type": "code",
   "execution_count": null,
   "metadata": {},
   "outputs": [],
   "source": [
    "# Identificar registros nulos/ Identifie null values\n",
    "airlines_df.isnull().sum()\n"
   ]
  },
  {
   "cell_type": "markdown",
   "metadata": {},
   "source": [
    "---\n",
    "\n",
    "<body>\n",
    "     <h2> <b> Fuente de Datos: Airports <br> </b> <i> Data Source: Airports </i> </h2>\n",
    "</body>\n"
   ]
  },
  {
   "cell_type": "code",
   "execution_count": null,
   "metadata": {},
   "outputs": [],
   "source": [
    "# Inspeccionar estadísticas del df/ Inspect df statistics\n",
    "airports_df.describe().transpose()\n"
   ]
  },
  {
   "cell_type": "code",
   "execution_count": null,
   "metadata": {},
   "outputs": [],
   "source": [
    "# Identificar variables categóricas y numércias/ Identifie cateorical and numerical vars\n",
    "num_vars = airports_df.columns[airports_df.dtypes != \"object\"]\n",
    "cat_vars = airports_df.columns[airports_df.dtypes == \"object\"]\n",
    "\n",
    "print(\"Variables numericas:\")\n",
    "for var in num_vars:\n",
    "    print(f\"\\t{var}\")\n",
    "print(\"\\n\")\n",
    "\n",
    "print(\"Variables categóricas:\")\n",
    "for var in cat_vars:\n",
    "    print(f\"\\t{var}\")\n"
   ]
  },
  {
   "cell_type": "code",
   "execution_count": null,
   "metadata": {},
   "outputs": [],
   "source": [
    "# Identificar registros vacíos/ Identifie empty values\n",
    "airports_df.isna().sum()\n"
   ]
  },
  {
   "cell_type": "code",
   "execution_count": null,
   "metadata": {},
   "outputs": [],
   "source": [
    "# Identificar registros nulos/ Identifie null values\n",
    "airports_df.isnull().sum()\n"
   ]
  },
  {
   "cell_type": "markdown",
   "metadata": {},
   "source": [
    "---\n",
    "\n",
    "<body>\n",
    "     <h2> <b> Fuente de Datos: Cancellation Codes <br> </b> <i> Data Source: Airports </i> </h2>\n",
    "</body>\n"
   ]
  },
  {
   "cell_type": "code",
   "execution_count": null,
   "metadata": {},
   "outputs": [],
   "source": [
    "# Inspeccionar estadísticas del df/ Inspect df statistics\n",
    "cancellation_codes_df.describe().transpose()\n"
   ]
  },
  {
   "cell_type": "code",
   "execution_count": null,
   "metadata": {},
   "outputs": [],
   "source": [
    "# Identificar variables categóricas y numércias/ Identifie cateorical and numerical vars\n",
    "num_vars = cancellation_codes_df.columns[cancellation_codes_df.dtypes != \"object\"]\n",
    "cat_vars = cancellation_codes_df.columns[cancellation_codes_df.dtypes == \"object\"]\n",
    "\n",
    "print(\"Variables numericas:\")\n",
    "for var in num_vars:\n",
    "    print(f\"\\t{var}\")\n",
    "print(\"\\n\")\n",
    "\n",
    "print(\"Variables categóricas:\")\n",
    "for var in cat_vars:\n",
    "    print(f\"\\t{var}\")\n"
   ]
  },
  {
   "cell_type": "code",
   "execution_count": null,
   "metadata": {},
   "outputs": [],
   "source": [
    "# Identificar registros vacíos/ Identifie empty values\n",
    "cancellation_codes_df.isna().sum()\n"
   ]
  },
  {
   "cell_type": "code",
   "execution_count": null,
   "metadata": {},
   "outputs": [],
   "source": [
    "# Identificar registros nulos/ Identifie null values\n",
    "cancellation_codes_df.isnull().sum()\n"
   ]
  },
  {
   "cell_type": "markdown",
   "metadata": {},
   "source": [
    "---\n",
    "\n",
    "<body>\n",
    "     <h2> <b> Fuente de Datos: Flights <br> </b> <i> Data Source: Flights </i> </h2>\n",
    "</body>\n"
   ]
  },
  {
   "cell_type": "code",
   "execution_count": null,
   "metadata": {},
   "outputs": [],
   "source": [
    "# Inspeccionar estadísticas del df/ Inspect df statistics\n",
    "flights_df.describe().transpose()\n"
   ]
  },
  {
   "cell_type": "code",
   "execution_count": null,
   "metadata": {},
   "outputs": [],
   "source": [
    "# Identificar variables categóricas y numércias/ Identifie cateorical and numerical vars\n",
    "num_vars = flights_df.columns[flights_df.dtypes != \"object\"]\n",
    "cat_vars = flights_df.columns[flights_df.dtypes == \"object\"]\n",
    "\n",
    "print(\"Variables numericas:\")\n",
    "for var in num_vars:\n",
    "    print(f\"\\t{var}\")\n",
    "print(\"\\n\")\n",
    "\n",
    "print(\"Variables categóricas:\")\n",
    "for var in cat_vars:\n",
    "    print(f\"\\t{var}\")\n"
   ]
  },
  {
   "cell_type": "code",
   "execution_count": 18,
   "metadata": {},
   "outputs": [
    {
     "data": {
      "text/plain": [
       "DATE                         0\n",
       "WEEK                         0\n",
       "YEAR                         0\n",
       "MONTH                        0\n",
       "DAY                          0\n",
       "DAY_OF_WEEK                  0\n",
       "AIRLINE                      0\n",
       "FLIGHT_NUMBER                0\n",
       "TAIL_NUMBER              14721\n",
       "ORIGIN_AIRPORT               0\n",
       "DESTINATION_AIRPORT          0\n",
       "SCHEDULED_DEPARTURE          0\n",
       "DEPARTURE_TIME           86153\n",
       "DEPARTURE_DELAY          86153\n",
       "TAXI_OUT                 89047\n",
       "WHEELS_OFF               89047\n",
       "SCHEDULED_TIME               6\n",
       "ELAPSED_TIME            105071\n",
       "AIR_TIME                105071\n",
       "DISTANCE                     0\n",
       "WHEELS_ON                92513\n",
       "TAXI_IN                  92513\n",
       "SCHEDULED_ARRIVAL            0\n",
       "ARRIVAL_TIME             92513\n",
       "ARRIVAL_DELAY           105071\n",
       "DIVERTED                     0\n",
       "CANCELLED                    0\n",
       "CANCELLATION_REASON    5729195\n",
       "AIR_SYSTEM_DELAY       4755640\n",
       "SECURITY_DELAY         4755640\n",
       "AIRLINE_DELAY          4755640\n",
       "LATE_AIRCRAFT_DELAY    4755640\n",
       "WEATHER_DELAY          4755640\n",
       "dtype: int64"
      ]
     },
     "execution_count": 18,
     "metadata": {},
     "output_type": "execute_result"
    }
   ],
   "source": [
    "# Identificar registros vacíos/ Identifie empty values\n",
    "flights_df.isna().sum()\n"
   ]
  },
  {
   "cell_type": "code",
   "execution_count": null,
   "metadata": {},
   "outputs": [],
   "source": [
    "# Identificar registros nulos/ Identifie null values\n",
    "flights_df.isnull().sum()\n"
   ]
  },
  {
   "cell_type": "markdown",
   "metadata": {},
   "source": [
    "---\n",
    "\n",
    "<body>\n",
    "    <h2> <b> Transformación Preliminar </b> <br> \n",
    "        <i> Preliminar Data Transformation </i> \n",
    "    </h2>\n",
    "</body>\n"
   ]
  },
  {
   "cell_type": "code",
   "execution_count": 3,
   "metadata": {},
   "outputs": [],
   "source": [
    "# Transformar las fechas/ Traform the dates: year-month-day pandas series\n",
    "DATE = pd.to_datetime({\"YEAR\": flights_df[\"YEAR\"],\n",
    "                       \"MONTH\": flights_df[\"MONTH\"],\n",
    "                      \"DAY\": flights_df[\"DAY\"]\n",
    "                       },\n",
    "                      format=\"%Y/%b/%d\")\n",
    "# DATE = DATE.dt.strftime(\"%d-%b-%Y\") iden/ the same thin in anothe format: 01-jan-2022\n",
    "\n",
    "# Converit la serie en df/ Convert pandas series on df\n",
    "date_df = DATE.to_frame(name=\"DATE\")\n",
    "\n",
    "# Calcular el número de la semana/ Determine the week number\n",
    "date_df[\"WEEK\"] = date_df[\"DATE\"].reset_index().groupby(\n",
    "    pd.Grouper(freq='W-MON', key='DATE')).grouper.group_info[0] + 1\n"
   ]
  },
  {
   "cell_type": "code",
   "execution_count": 4,
   "metadata": {},
   "outputs": [
    {
     "data": {
      "text/html": [
       "<div>\n",
       "<style scoped>\n",
       "    .dataframe tbody tr th:only-of-type {\n",
       "        vertical-align: middle;\n",
       "    }\n",
       "\n",
       "    .dataframe tbody tr th {\n",
       "        vertical-align: top;\n",
       "    }\n",
       "\n",
       "    .dataframe thead th {\n",
       "        text-align: right;\n",
       "    }\n",
       "</style>\n",
       "<table border=\"1\" class=\"dataframe\">\n",
       "  <thead>\n",
       "    <tr style=\"text-align: right;\">\n",
       "      <th></th>\n",
       "      <th>DATE</th>\n",
       "      <th>WEEK</th>\n",
       "    </tr>\n",
       "  </thead>\n",
       "  <tbody>\n",
       "    <tr>\n",
       "      <th>0</th>\n",
       "      <td>2015-01-01</td>\n",
       "      <td>1</td>\n",
       "    </tr>\n",
       "    <tr>\n",
       "      <th>1</th>\n",
       "      <td>2015-01-01</td>\n",
       "      <td>1</td>\n",
       "    </tr>\n",
       "    <tr>\n",
       "      <th>2</th>\n",
       "      <td>2015-01-01</td>\n",
       "      <td>1</td>\n",
       "    </tr>\n",
       "    <tr>\n",
       "      <th>3</th>\n",
       "      <td>2015-01-01</td>\n",
       "      <td>1</td>\n",
       "    </tr>\n",
       "    <tr>\n",
       "      <th>4</th>\n",
       "      <td>2015-01-01</td>\n",
       "      <td>1</td>\n",
       "    </tr>\n",
       "  </tbody>\n",
       "</table>\n",
       "</div>"
      ],
      "text/plain": [
       "        DATE  WEEK\n",
       "0 2015-01-01     1\n",
       "1 2015-01-01     1\n",
       "2 2015-01-01     1\n",
       "3 2015-01-01     1\n",
       "4 2015-01-01     1"
      ]
     },
     "execution_count": 4,
     "metadata": {},
     "output_type": "execute_result"
    }
   ],
   "source": [
    "# Inspeccionar el df/ Inspect df\n",
    "date_df.head()\n"
   ]
  },
  {
   "cell_type": "code",
   "execution_count": 5,
   "metadata": {},
   "outputs": [],
   "source": [
    "# Insertar columnas en el df/ Insert rows into df\n",
    "flights_df.insert(0, \"DATE\", date_df[\"DATE\"], allow_duplicates=False)\n",
    "flights_df.insert(1, \"WEEK\", date_df[\"WEEK\"], allow_duplicates=False)"
   ]
  },
  {
   "cell_type": "markdown",
   "metadata": {},
   "source": [
    "<body>\n",
    "    <h2> <b> Desarrollo del Análisis </b> <br>\n",
    "        <i> Perform Analisys </i>\n",
    "    </h2>\n",
    "    <p>\n",
    "     <ol>\n",
    "          <li> ¿Cómo varía el volumen global de vuelos por mes? ¿Por día de la semana? <br>\n",
    "          <i> How does the overall flight volume vary by month? By day of week? </i> </li>\n",
    "    </ol>\n",
    "    </p>\n",
    "</body>\n"
   ]
  },
  {
   "cell_type": "code",
   "execution_count": null,
   "metadata": {},
   "outputs": [],
   "source": [
    "# Cálcular número de vuelos por mes/ Calculate flights number by month\n",
    "flights_df[[\"DATE\", \"FLIGHT_NUMBER\"]].loc[(flights_df[\"CANCELLED\"] == 0)].groupby(\n",
    "    pd.Grouper(freq=\"M\", key=\"DATE\")).count().head(12)\n"
   ]
  },
  {
   "cell_type": "code",
   "execution_count": null,
   "metadata": {},
   "outputs": [],
   "source": [
    "# Instanciar el df/ Set the df\n",
    "flights_number_month = flights_df[[\"DATE\", \"FLIGHT_NUMBER\"]].loc[(\n",
    "    flights_df[\"CANCELLED\"] == 0)].groupby(pd.Grouper(freq=\"M\", key=\"DATE\")).count()\n"
   ]
  },
  {
   "cell_type": "markdown",
   "metadata": {},
   "source": [
    "---\n",
    "### Caculos"
   ]
  },
  {
   "cell_type": "markdown",
   "metadata": {},
   "source": [
    "#### pag1"
   ]
  },
  {
   "cell_type": "code",
   "execution_count": 15,
   "metadata": {},
   "outputs": [],
   "source": [
    "total_flights_number = flights_df[\"FLIGHT_NUMBER\"].count()"
   ]
  },
  {
   "cell_type": "code",
   "execution_count": null,
   "metadata": {},
   "outputs": [
    {
     "name": "stdout",
     "output_type": "stream",
     "text": [
      "98.46\n"
     ]
    }
   ],
   "source": [
    "departured_flights_percentage = round(((departured_flights_number / total_flights_number)*100), 2)\n",
    "print(departured_flights_percentage)"
   ]
  },
  {
   "cell_type": "code",
   "execution_count": 16,
   "metadata": {},
   "outputs": [],
   "source": [
    "departured_flights_number = flights_df[\"FLIGHT_NUMBER\"].loc[(flights_df[\"CANCELLED\"] == 0)].count()"
   ]
  },
  {
   "cell_type": "code",
   "execution_count": 17,
   "metadata": {},
   "outputs": [
    {
     "name": "stdout",
     "output_type": "stream",
     "text": [
      "98.46\n"
     ]
    }
   ],
   "source": [
    "departured_flights_percentage = round(((departured_flights_number / total_flights_number)*100), 2)\n",
    "print(departured_flights_percentage)"
   ]
  },
  {
   "cell_type": "markdown",
   "metadata": {},
   "source": [
    "#### pag2"
   ]
  },
  {
   "cell_type": "code",
   "execution_count": 22,
   "metadata": {},
   "outputs": [],
   "source": [
    "delayed_flights_number = flights_df[\"FLIGHT_NUMBER\"].loc[(flights_df[\"DEPARTURE_DELAY\"] > 0) & (flights_df[\"CANCELLED\"] == 0) ].count()"
   ]
  },
  {
   "cell_type": "code",
   "execution_count": 23,
   "metadata": {},
   "outputs": [
    {
     "name": "stdout",
     "output_type": "stream",
     "text": [
      "36.48\n"
     ]
    }
   ],
   "source": [
    "delayed_flights_percentage = round(((delayed_flights_number / total_flights_number)*100), 2)\n",
    "print(delayed_flights_percentage)"
   ]
  },
  {
   "cell_type": "code",
   "execution_count": 25,
   "metadata": {},
   "outputs": [],
   "source": [
    "delayed_flights_df = flights_df.loc[(flights_df[\"DEPARTURE_DELAY\"] > 0) & (flights_df[\"CANCELLED\"] == 0)]\n"
   ]
  },
  {
   "cell_type": "code",
   "execution_count": 26,
   "metadata": {},
   "outputs": [
    {
     "name": "stderr",
     "output_type": "stream",
     "text": [
      "/tmp/ipykernel_4767/3710714380.py:5: SettingWithCopyWarning: \n",
      "A value is trying to be set on a copy of a slice from a DataFrame.\n",
      "Try using .loc[row_indexer,col_indexer] = value instead\n",
      "\n",
      "See the caveats in the documentation: https://pandas.pydata.org/pandas-docs/stable/user_guide/indexing.html#returning-a-view-versus-a-copy\n",
      "  delayed_flights_df[\"STATE\"] = 1\n",
      "/tmp/ipykernel_4767/3710714380.py:7: SettingWithCopyWarning: \n",
      "A value is trying to be set on a copy of a slice from a DataFrame\n",
      "\n",
      "See the caveats in the documentation: https://pandas.pydata.org/pandas-docs/stable/user_guide/indexing.html#returning-a-view-versus-a-copy\n",
      "  delayed_flights_df[\"STATE\"].loc[((flights_df[\"DEPARTURE_DELAY\"] < (\n"
     ]
    }
   ],
   "source": [
    "q1 = delayed_flights_df[\"DEPARTURE_DELAY\"].quantile(0.25)\n",
    "q3 = delayed_flights_df[\"DEPARTURE_DELAY\"].quantile(0.75)\n",
    "IQR = q3 - q1\n",
    "\n",
    "delayed_flights_df[\"STATE\"] = 1\n",
    "\n",
    "delayed_flights_df[\"STATE\"].loc[((flights_df[\"DEPARTURE_DELAY\"] < (\n",
    "    q1-1.5*IQR)) | (flights_df[\"DEPARTURE_DELAY\"] > (q3+1.5*IQR)))] = 0\n"
   ]
  },
  {
   "cell_type": "code",
   "execution_count": 34,
   "metadata": {},
   "outputs": [],
   "source": [
    "static_df = delayed_flights_df.loc[delayed_flights_df[\"STATE\"] == 1].describe().transpose()"
   ]
  },
  {
   "cell_type": "code",
   "execution_count": 38,
   "metadata": {},
   "outputs": [],
   "source": [
    "# Inspeccionar df/ Inspect df\n",
    "mean_delay_time = round(static_df[\"mean\"][\"DEPARTURE_DELAY\"], 2)"
   ]
  },
  {
   "cell_type": "code",
   "execution_count": 39,
   "metadata": {},
   "outputs": [
    {
     "name": "stdout",
     "output_type": "stream",
     "text": [
      "19.68\n"
     ]
    }
   ],
   "source": [
    "print(mean_delay_time)"
   ]
  },
  {
   "cell_type": "markdown",
   "metadata": {},
   "source": [
    "#### pag3"
   ]
  },
  {
   "cell_type": "code",
   "execution_count": 42,
   "metadata": {},
   "outputs": [],
   "source": [
    "cancelled_flights_number = flights_df[\"FLIGHT_NUMBER\"].loc[(flights_df[\"CANCELLED\"] == 1)].count()"
   ]
  },
  {
   "cell_type": "code",
   "execution_count": 45,
   "metadata": {},
   "outputs": [
    {
     "name": "stdout",
     "output_type": "stream",
     "text": [
      "1.54\n"
     ]
    }
   ],
   "source": [
    "cancelled_flights_percentage = round(((cancelled_flights_number / total_flights_number)*100), 2)\n",
    "print(cancelled_flights_percentage)"
   ]
  },
  {
   "cell_type": "code",
   "execution_count": 46,
   "metadata": {},
   "outputs": [],
   "source": [
    "KEY_LIST = [\n",
    "    {\"total_flights_number\":total_flights_number,\n",
    "    \"departured_flights_number\": departured_flights_number,\n",
    "    \"departured_flights_percentage\": departured_flights_percentage,\n",
    "    \"delayed_flights_number\": delayed_flights_number,\n",
    "    \"delayed_flights_percentage\": delayed_flights_percentage,\n",
    "    \"mean_delay_time\": mean_delay_time,\n",
    "    \"cancelled_flights_number\": cancelled_flights_number,\n",
    "    \"cancelled_flights_percentage\": cancelled_flights_percentage}\n",
    "]"
   ]
  },
  {
   "cell_type": "code",
   "execution_count": 47,
   "metadata": {},
   "outputs": [
    {
     "name": "stdout",
     "output_type": "stream",
     "text": [
      "[{'total_flights_number': 5819079, 'departured_flights_number': 5729195, 'departured_flights_percentage': 98.46, 'delayed_flights_number': 2123078, 'delayed_flights_percentage': 36.48, 'mean_delay_time': 19.68, 'cancelled_flights_number': 89884, 'cancelled_flights_percentage': 1.54}]\n"
     ]
    }
   ],
   "source": [
    "print(KEY_LIST)"
   ]
  },
  {
   "cell_type": "code",
   "execution_count": 52,
   "metadata": {},
   "outputs": [],
   "source": [
    "path = \"../data/processed/caracteristics.csv\"\n",
    "\n",
    "import csv\n",
    "\n",
    "keys = KEY_LIST[0].keys()\n",
    "\n",
    "with open('../data/processed/caracteristics.csv', 'w', newline='') as output_file:\n",
    "    dict_writer = csv.DictWriter(output_file, keys)\n",
    "    dict_writer.writeheader()\n",
    "    dict_writer.writerows(KEY_LIST)\n",
    "    output_file.close()\n"
   ]
  },
  {
   "cell_type": "markdown",
   "metadata": {},
   "source": [
    "---"
   ]
  },
  {
   "cell_type": "code",
   "execution_count": null,
   "metadata": {},
   "outputs": [],
   "source": [
    "flights_number_month.head()"
   ]
  },
  {
   "cell_type": "code",
   "execution_count": null,
   "metadata": {},
   "outputs": [],
   "source": [
    "# Resetear índices/ Reset indexs\n",
    "flights_number_month = flights_number_month.reset_index()\n"
   ]
  },
  {
   "cell_type": "code",
   "execution_count": null,
   "metadata": {},
   "outputs": [],
   "source": [
    "from datetime import datetime\n",
    "\n",
    "\n",
    "# Calcular vación mensual del números de vuelos/ Caculate flight number variation rate by month\n",
    "\n",
    "COLUMN01 = \"DATE\"\n",
    "COLUMN02 = \"FLIGHT_NUMBER\"\n",
    "KEY_VALUE_LIST = []\n",
    "TOP_LIMIT = int(flights_number_month[COLUMN01].count())\n",
    "for i in range(0, TOP_LIMIT):\n",
    "    if (i + 1) == TOP_LIMIT:\n",
    "        break\n",
    "    else:\n",
    "        time01 = flights_number_month[COLUMN01][i]\n",
    "        time02 = flights_number_month[COLUMN01][i + 1]\n",
    "        flights01 = int(flights_number_month[COLUMN02][i])\n",
    "        flights02 = int(flights_number_month[COLUMN02][i + 1])\n",
    "        delta_flights = round((((flights02 / flights01) - 1)*100), 2)\n",
    "        KEY_VALUE_LIST.append({\n",
    "            \"month\":time02,\n",
    "            \"variation_rate\": delta_flights\n",
    "        })\n",
    "        #print(\n",
    "            #f\"La cantidad total de vuelo durante el mes {time01} fue de: {flights01}\\nLa cantidad total de vuelo durante el mes {time02} fue de: {flights02}\")\n",
    "        #print(\n",
    "            #f\"La varaición en el numero de vuelo entre {time02} y {time01} fue de {delta_flights}\\n\")\n",
    "\n",
    "\n",
    "KEY_VALUE_LIST = pd.DataFrame(KEY_VALUE_LIST)"
   ]
  },
  {
   "cell_type": "code",
   "execution_count": null,
   "metadata": {},
   "outputs": [],
   "source": [
    "path = \"../data/processed/flight_number_variation_rate.csv\"\n",
    "KEY_VALUE_LIST.to_csv(path_or_buf = path, index=False)"
   ]
  },
  {
   "cell_type": "code",
   "execution_count": null,
   "metadata": {},
   "outputs": [],
   "source": [
    "# Cálcular número de vuelos por semana/ Calculate flights number by week\n",
    "flights_df[[\"WEEK\", \"FLIGHT_NUMBER\"]].loc[(\n",
    "    flights_df[\"CANCELLED\"] == 0)].groupby(\"WEEK\").count().head(53)\n"
   ]
  },
  {
   "cell_type": "code",
   "execution_count": null,
   "metadata": {},
   "outputs": [],
   "source": [
    "# Instanciar el df/ Set the df\n",
    "flights_number_week = flights_df[[\"WEEK\", \"FLIGHT_NUMBER\"]].loc[(\n",
    "    flights_df[\"CANCELLED\"] == 0)].groupby(\"WEEK\").count().head(53)\n"
   ]
  },
  {
   "cell_type": "code",
   "execution_count": null,
   "metadata": {},
   "outputs": [],
   "source": [
    "# Resetear índices/ Reset index\n",
    "flights_number_week = flights_number_week.reset_index()\n"
   ]
  },
  {
   "cell_type": "code",
   "execution_count": null,
   "metadata": {},
   "outputs": [],
   "source": [
    "COLUMN01 = \"WEEK\"\n",
    "COLUMN02 = \"FLIGHT_NUMBER\"\n",
    "TOP_LIMIT = int(flights_number_week[COLUMN01].count())\n",
    "for i in range(0, TOP_LIMIT):\n",
    "    if (i + 1) == TOP_LIMIT:\n",
    "        break\n",
    "    else:\n",
    "        time01 = str(flights_number_week[COLUMN01][i])\n",
    "        time02 = str(flights_number_week[COLUMN01][i + 1])\n",
    "        flights01 = int(flights_number_week[COLUMN02][i])\n",
    "        flights02 = int(flights_number_week[COLUMN02][i + 1])\n",
    "        delta_flights = round((((flights02 / flights01) - 1)*100), 2)\n",
    "        print(\n",
    "            f\"La cantidad total de vuelos durante la semana {time01} fue de: {flights01}\\nLa cantidad total de vuelos durante la semana {time02} fue de: {flights02}\")\n",
    "        print(\n",
    "            f\"La varaición en el numero de vuelo entre {time02} y {time01} fue de {delta_flights}\\n\")\n"
   ]
  },
  {
   "cell_type": "markdown",
   "metadata": {},
   "source": [
    "<body>\n",
    "    <p>\n",
    "     <ol start =2>\n",
    "          <li> ¿Qué porcentaje de vuelos experimentaron un retraso en la salida en 2015? Entre esos vuelos, ¿cuál fue el tiempo medio de retraso, en minutos? <br>\n",
    "          <i> What percentage of flights in experienced a departure delay in 2015? Among those flights, what was the average delay time, in minutes? </i> </li>\n",
    "    </ol>\n",
    "    </p>\n",
    "</body>\n"
   ]
  },
  {
   "cell_type": "code",
   "execution_count": null,
   "metadata": {},
   "outputs": [],
   "source": [
    "frequency_df = flights_df[[\"DATE\", \"DEPARTURE_DELAY\"]].groupby(\n",
    "    \"DATE\").max().reset_index()\n",
    "frequency_df[\"DEPARTURE_DELAY\"].hist(bins=15, figsize=(15, 7))\n",
    "plt.title(\"Delayed Fligths\")\n",
    "plt.xlabel(\"DEPARTURE_DELAY\")\n",
    "plt.ylabel(\"frequency\")\n",
    "plt.show()\n",
    "\n",
    "frequency_df = flights_df[[\"DATE\", \"DEPARTURE_DELAY\"]].groupby(\n",
    "    \"DATE\").min().reset_index()\n",
    "frequency_df[\"DEPARTURE_DELAY\"].hist(bins=15, figsize=(15, 7))\n",
    "plt.title(\"Arrival Earlier Fligths\")\n",
    "plt.xlabel(\"DEPARTURE_DELAY\")\n",
    "plt.ylabel(\"frequency\")\n",
    "plt.show()\n"
   ]
  },
  {
   "cell_type": "code",
   "execution_count": null,
   "metadata": {},
   "outputs": [],
   "source": [
    "delayed_flights_df = flights_df.loc[(flights_df[\"DEPARTURE_DELAY\"] > 0) & (flights_df[\"CANCELLED\"] == 0)]\n"
   ]
  },
  {
   "cell_type": "code",
   "execution_count": null,
   "metadata": {},
   "outputs": [],
   "source": [
    "delayed_flights_df.describe().transpose()\n"
   ]
  },
  {
   "cell_type": "code",
   "execution_count": null,
   "metadata": {},
   "outputs": [],
   "source": [
    "q1 = delayed_flights_df[\"DEPARTURE_DELAY\"].quantile(0.25)\n",
    "q3 = delayed_flights_df[\"DEPARTURE_DELAY\"].quantile(0.75)\n",
    "IQR = q3 - q1\n",
    "\n",
    "delayed_flights_df[\"STATE\"] = 1\n",
    "\n",
    "delayed_flights_df[\"STATE\"].loc[((flights_df[\"DEPARTURE_DELAY\"] < (\n",
    "    q1-1.5*IQR)) | (flights_df[\"DEPARTURE_DELAY\"] > (q3+1.5*IQR)))] = 0\n"
   ]
  },
  {
   "cell_type": "code",
   "execution_count": null,
   "metadata": {},
   "outputs": [],
   "source": [
    "delayed_flights_df.loc[delayed_flights_df[\"STATE\"] == 1].describe().transpose()\n"
   ]
  },
  {
   "cell_type": "code",
   "execution_count": null,
   "metadata": {},
   "outputs": [],
   "source": [
    "delayed_flights_df.loc[delayed_flights_df[\"STATE\"] == 0].describe().transpose()\n"
   ]
  },
  {
   "cell_type": "code",
   "execution_count": null,
   "metadata": {},
   "outputs": [],
   "source": [
    "# Calcular porcentaje de vuelos con retraso en 2015/ Calculate flight delayed percetage in 2015\n",
    "delayed_flights = delayed_flights_df[\"FLIGHT_NUMBER\"].count()\n",
    "total_flights = flights_df[\"FLIGHT_NUMBER\"].count()\n",
    "delayed_flights_precentege = round(((delayed_flights/total_flights)*100), 2)\n",
    "print(\n",
    "    f\"Vuelos con retraso en 2015: {delayed_flights}\\nVuelos totales en 2015: {total_flights}\\nPorcentaje de vuelos con retraso en 2015: {delayed_flights_precentege}%\")\n"
   ]
  },
  {
   "cell_type": "code",
   "execution_count": null,
   "metadata": {},
   "outputs": [],
   "source": [
    "# Instanciar el df/ Set the df\n",
    "delayed_flights_month_df = delayed_flights_df[[\"DATE\", \"FLIGHT_NUMBER\"]].loc[(\n",
    "    flights_df[\"CANCELLED\"] == 0)].groupby(pd.Grouper(freq=\"M\", key=\"DATE\")).count()"
   ]
  },
  {
   "cell_type": "code",
   "execution_count": null,
   "metadata": {},
   "outputs": [],
   "source": [
    "delayed_flights_month_df.head(12)"
   ]
  },
  {
   "cell_type": "code",
   "execution_count": null,
   "metadata": {},
   "outputs": [],
   "source": [
    "# Resetear índices/ Reset indexs\n",
    "delayed_flights_month_df = delayed_flights_month_df.reset_index()"
   ]
  },
  {
   "cell_type": "code",
   "execution_count": null,
   "metadata": {},
   "outputs": [],
   "source": [
    "path = \"../data/processed/delayed_flight_number_variation_rate.csv\"\n",
    "KEY_VALUE_LIST.to_csv(path_or_buf = path, index=False)"
   ]
  },
  {
   "cell_type": "code",
   "execution_count": null,
   "metadata": {},
   "outputs": [],
   "source": [
    "from datetime import datetime\n",
    "\n",
    "\n",
    "# Calcular vación mensual del números de vuelos/ Caculate flight number variation rate by month\n",
    "\n",
    "COLUMN01 = \"DATE\"\n",
    "COLUMN02 = \"FLIGHT_NUMBER\"\n",
    "KEY_VALUE_LIST = []\n",
    "TOP_LIMIT = int(delayed_flights_month_df[COLUMN01].count())\n",
    "for i in range(0, TOP_LIMIT):\n",
    "    if (i + 1) == TOP_LIMIT:\n",
    "        break\n",
    "    else:\n",
    "        time01 = delayed_flights_month_df[COLUMN01][i]\n",
    "        time02 = delayed_flights_month_df[COLUMN01][i + 1]\n",
    "        flights01 = int(delayed_flights_month_df[COLUMN02][i])\n",
    "        flights02 = int(delayed_flights_month_df[COLUMN02][i + 1])\n",
    "        delta_delayed_flights = round((((flights02 / flights01) - 1)*100), 2)\n",
    "        KEY_VALUE_LIST.append({\n",
    "            \"month\":time02,\n",
    "            \"variation_rate\": delta_delayed_flights\n",
    "        })\n",
    "        #print(\n",
    "            #f\"La cantidad total de vuelo durante el mes {time01} fue de: {flights01}\\nLa cantidad total de vuelo durante el mes {time02} fue de: {flights02}\")\n",
    "        #print(\n",
    "            #f\"La varaición en el numero de vuelo entre {time02} y {time01} fue de {delta_flights}\\n\")\n",
    "\n",
    "KEY_VALUE_LIST = pd.DataFrame(KEY_VALUE_LIST)"
   ]
  },
  {
   "cell_type": "code",
   "execution_count": null,
   "metadata": {},
   "outputs": [],
   "source": [
    "print(KEY_VALUE_LIST)"
   ]
  },
  {
   "cell_type": "code",
   "execution_count": null,
   "metadata": {},
   "outputs": [],
   "source": [
    "# Calcular el tiempo promedio de retraso en dichos vuelos en minutos/ Among those flight, calculate the average delay time, in minutes\n",
    "mean_departure_delay = round(delayed_flights_df[\"DEPARTURE_DELAY\"].mean(), 2)\n",
    "print(f\"El tiempo promedio de retraso fue: {mean_departure_delay} min\")"
   ]
  },
  {
   "cell_type": "markdown",
   "metadata": {},
   "source": [
    "<body>\n",
    "    <p>\n",
    "     <ol start =3>\n",
    "          <li> ¿Cómo varía el porcentaje de vuelos retrasados a lo largo del año? ¿Y en el caso de los vuelos que salen de Boston (BOS) específicamente? <br>\n",
    "          <i> How does the % of delayed flights vary throughout the year? What about for flights leaving from Boston (BOS) specifically? </i> </li>\n",
    "    </ol>\n",
    "    </p>\n",
    "</body>\n"
   ]
  },
  {
   "cell_type": "code",
   "execution_count": null,
   "metadata": {},
   "outputs": [],
   "source": [
    "# Calcular el tiempo promedio de retraso en dichos vuelos a lo largo del año/ Among those flight, calculate the average delay time throughout the year\n",
    "mean_departure_delay_month_df = delayed_flights_df[[\n",
    "    \"DATE\", \"DEPARTURE_DELAY\"]].groupby(pd.Grouper(freq=\"M\", key=\"DATE\")).mean()\n"
   ]
  },
  {
   "cell_type": "code",
   "execution_count": null,
   "metadata": {},
   "outputs": [],
   "source": [
    "# Inspeccionar df/ Inspect df\n",
    "mean_departure_delay_month_df.head(12)"
   ]
  },
  {
   "cell_type": "code",
   "execution_count": null,
   "metadata": {},
   "outputs": [],
   "source": [
    "# Calcular el tiempo promedio de retraso en dichos vuelos a lo largo del año en \"BOS\"/ Among those flight, calculate the average delay time throughout the year on \"BOS\"\n",
    "mean_departure_delay_month_df = delayed_flights_df[[\n",
    "    \"DATE\", \"DEPARTURE_DELAY\"]].loc[delayed_flights_df[\"DESTINATION_AIRPORT\"] == \"BOS\"].groupby(pd.Grouper(freq=\"M\", key=\"DATE\")).mean()"
   ]
  },
  {
   "cell_type": "code",
   "execution_count": null,
   "metadata": {},
   "outputs": [],
   "source": [
    "# Inspeccionar df/ Inspect df\n",
    "mean_departure_delay_month_df.head(12)"
   ]
  },
  {
   "cell_type": "markdown",
   "metadata": {},
   "source": [
    "<body>\n",
    "    <p>\n",
    "     <ol start =4>\n",
    "          <li> Cuántos vuelos se cancelaron en 2015? ¿Qué porcentaje de cancelaciones se debieron a las condiciones meteorológicas? ¿Qué porcentaje se debió a la aerolínea/compañía aérea? <br>\n",
    "          <i> How many flights were cancelled in 2015? What % of cancellations were due to weather? What % were due to the Airline/Carrier? </i> </li>\n",
    "    </ol>\n",
    "    </p>\n",
    "</body>\n"
   ]
  },
  {
   "cell_type": "code",
   "execution_count": null,
   "metadata": {},
   "outputs": [],
   "source": [
    "cancelled_flights = flights_df[\"CANCELLED\"].loc[flights_df[\"CANCELLED\"] == 1].count()"
   ]
  },
  {
   "cell_type": "code",
   "execution_count": null,
   "metadata": {},
   "outputs": [],
   "source": [
    "\n",
    "cancelled_flights_by_reason_df = flights_df[[\"CANCELLED\", \"CANCELLATION_REASON\"]\n",
    "                                           ].loc[flights_df[\"CANCELLED\"] == 1].groupby(\"CANCELLATION_REASON\").count()\n"
   ]
  },
  {
   "cell_type": "code",
   "execution_count": null,
   "metadata": {},
   "outputs": [],
   "source": [
    "cancelled_flights_by_reason_df = cancelled_flights_by_reason_df.reset_index()"
   ]
  },
  {
   "cell_type": "code",
   "execution_count": null,
   "metadata": {},
   "outputs": [],
   "source": [
    "cancelled_flights_by_reason_df.head()"
   ]
  },
  {
   "cell_type": "code",
   "execution_count": null,
   "metadata": {},
   "outputs": [],
   "source": [
    "# Calcular vación mensual del números de vuelos/ Caculate flight number variation rate by month\n",
    "COLUMN01 = \"CANCELLATION_REASON\"\n",
    "COLUMN02 = \"CANCELLED\"\n",
    "TOP_LIMIT = int(cancelled_flights_by_reason_df[COLUMN01].count())\n",
    "print(\n",
    "    f\"La cantidad total de vulelos cancelados en 2015 fue de: {cancelled_flights}\\n\")\n",
    "for i in range(0, TOP_LIMIT):\n",
    "    if i == TOP_LIMIT:\n",
    "        break\n",
    "    else:\n",
    "        reason = cancelled_flights_by_reason_df[COLUMN01][i]\n",
    "        flights01 = int(cancelled_flights_by_reason_df[COLUMN02][i])\n",
    "        cancelation_flights_percentege = round(\n",
    "            ((flights01 / cancelled_flights)*100), 2)\n",
    "        print(\n",
    "            f\"El porcentaje de vuelos cancelados debido a {reason} fue de {cancelation_flights_percentege}\")\n"
   ]
  },
  {
   "cell_type": "markdown",
   "metadata": {},
   "source": [
    "<body>\n",
    "    <p>\n",
    "     <ol start =5>\n",
    "          <li> ¿Qué aerolíneas parecen ser más y menos fiables, en cuanto a la puntualidad de las salidas? <br>\n",
    "          <i> Which airlines seem to be most and least reliable, in terms of on-time departure? </i> </li>\n",
    "    </ol>\n",
    "    </p>\n",
    "</body>\n"
   ]
  },
  {
   "cell_type": "code",
   "execution_count": null,
   "metadata": {},
   "outputs": [],
   "source": [
    "delayed_flights_df[[\"AIRLINE\", \"DEPARTURE_DELAY\"]].groupby(\n",
    "    by=\"AIRLINE\"\n",
    ").mean().sort_values(by=\"DEPARTURE_DELAY\", ascending=False) \n"
   ]
  },
  {
   "cell_type": "markdown",
   "metadata": {},
   "source": [
    "---\n",
    "\n",
    "<body>\n",
    "     <h1> <b> Dataframes Necesarios </b> <br> <i> Dataframes Requires </i> </h1>\n",
    "     \n",
    "</body>\n"
   ]
  },
  {
   "cell_type": "markdown",
   "metadata": {},
   "source": [
    "<body>\n",
    "    <h2> Vuelos Efectivos </h2>\n",
    "</body>\n"
   ]
  },
  {
   "cell_type": "code",
   "execution_count": 9,
   "metadata": {},
   "outputs": [],
   "source": [
    "departured_flights_df = flights_df[\n",
    "    [\"DATE\",\n",
    "     \"AIRLINE\",\n",
    "     \"ORIGIN_AIRPORT\",\n",
    "     \"FLIGHT_NUMBER\"]].loc[(flights_df[\"CANCELLED\"] == 0)].groupby([\n",
    "         pd.Grouper(freq=\"M\", key=\"DATE\"),\n",
    "         \"AIRLINE\",\n",
    "         \"ORIGIN_AIRPORT\"]).count()"
   ]
  },
  {
   "cell_type": "code",
   "execution_count": 13,
   "metadata": {},
   "outputs": [
    {
     "data": {
      "text/plain": [
       "DATE              5729195\n",
       "AIRLINE           5729195\n",
       "ORIGIN_AIRPORT    5729195\n",
       "FLIGHT_NUMBER     5729195\n",
       "dtype: int64"
      ]
     },
     "execution_count": 13,
     "metadata": {},
     "output_type": "execute_result"
    }
   ],
   "source": [
    "flights_df[\n",
    "    [\"DATE\",\n",
    "     \"AIRLINE\",\n",
    "     \"ORIGIN_AIRPORT\",\n",
    "     \"FLIGHT_NUMBER\"]].loc[(flights_df[\"CANCELLED\"] == 0)].count().head()"
   ]
  },
  {
   "cell_type": "code",
   "execution_count": null,
   "metadata": {},
   "outputs": [],
   "source": [
    "departured_flights_df = departured_flights_df.reset_index()"
   ]
  },
  {
   "cell_type": "code",
   "execution_count": null,
   "metadata": {},
   "outputs": [],
   "source": [
    "departured_flights_df.rename(columns={\"FLIGHT_NUMBER\":\"NUMBER_OF_FLIGHTS\"}, inplace=True)"
   ]
  },
  {
   "cell_type": "code",
   "execution_count": null,
   "metadata": {},
   "outputs": [],
   "source": [
    "departured_flights_df.head()"
   ]
  },
  {
   "cell_type": "code",
   "execution_count": null,
   "metadata": {},
   "outputs": [],
   "source": [
    "path = \"../data/interim/departured_flights.csv\"\n",
    "departured_flights_df.to_csv(path_or_buf = path, index=False)"
   ]
  },
  {
   "cell_type": "markdown",
   "metadata": {},
   "source": [
    "---\n",
    "\n",
    "<body>\n",
    "     <h1> <b> Carga de los Datos en Dataframes (Interim Data) </b> <br> <i> Set the Interim Data </i> </h1>\n",
    "     \n",
    "</body>\n"
   ]
  },
  {
   "cell_type": "code",
   "execution_count": null,
   "metadata": {},
   "outputs": [],
   "source": [
    "# Declarar los argumentos para cargar los datos en datasets: aerolíneas\n",
    "# / Define arguments to read the data: airlines.\n",
    "# Filepath.\n",
    "DIR_PATH06 = \"../data/interim/departured_flights.csv\"\n",
    "# Encoding.\n",
    "ENC06 = \"utf-8\"\n",
    "# Separator.\n",
    "SEP06 = \",\"\n",
    "\n",
    "# Instanciar el dataframe (df)/ Read data\n",
    "departured_flights_df = pd.read_csv(\n",
    "    filepath_or_buffer=DIR_PATH06, sep=SEP06, encoding=ENC06)\n",
    "\n",
    "# Inspeccionar el df/ Inspect df\n",
    "departured_flights_df.head()"
   ]
  },
  {
   "cell_type": "code",
   "execution_count": null,
   "metadata": {},
   "outputs": [],
   "source": [
    "departured_flights_df.groupby(by=\"DATE\").sum()\n"
   ]
  },
  {
   "cell_type": "code",
   "execution_count": null,
   "metadata": {},
   "outputs": [],
   "source": [
    "# Renombrar columna \"AIRLINE\"\n",
    "departured_flights_df.rename(columns={\"AIRLINE\": \"IATA_CODE\"},\n",
    "                             inplace=True)\n",
    "\n",
    "# Mergeamos los df's \n",
    "lft = departured_flights_df\n",
    "rght = airlines_df\n",
    "join = \"inner\"\n",
    "column_name = \"IATA_CODE\"\n",
    "\n",
    "departured_flights_df = pd.merge(left=lft,\n",
    "                                 right=rght,\n",
    "                                 how=join,\n",
    "                                 on=column_name)\n"
   ]
  },
  {
   "cell_type": "code",
   "execution_count": null,
   "metadata": {},
   "outputs": [],
   "source": [
    "# Reordenamos las columnas del df meregeado\n",
    "columns = [\n",
    "            \"DATE\", \n",
    "            \"AIRLINE\", \n",
    "            \"ORIGIN_AIRPORT\", \n",
    "            \"NUMBER_OF_FLIGHTS\"\n",
    "            ]\n",
    "\n",
    "departured_flights_df = departured_flights_df.reindex(columns = columns)"
   ]
  },
  {
   "cell_type": "code",
   "execution_count": null,
   "metadata": {},
   "outputs": [],
   "source": [
    "# Renombrar columna \"AIRLINE\"\n",
    "departured_flights_df.rename(columns={\"ORIGIN_AIRPORT\": \"IATA_CODE\"},\n",
    "                             inplace=True)"
   ]
  },
  {
   "cell_type": "code",
   "execution_count": null,
   "metadata": {},
   "outputs": [],
   "source": [
    "# Mergeamos los df's \n",
    "lft = departured_flights_df\n",
    "rght = airports_df\n",
    "join = \"inner\"\n",
    "column_name = \"IATA_CODE\"\n",
    "\n",
    "departured_flights_df = pd.merge(left=lft,\n",
    "                                 right=rght,\n",
    "                                 how=join,\n",
    "                                 on=column_name)"
   ]
  },
  {
   "cell_type": "code",
   "execution_count": null,
   "metadata": {},
   "outputs": [],
   "source": [
    "columns = [\n",
    "            \"DATE\", \n",
    "            \"AIRLINE\", \n",
    "            \"AIRPORT\",\n",
    "            \"CITY\",\n",
    "            \"STATE\",\n",
    "            \"COUNTRY\",\n",
    "            \"NUMBER_OF_FLIGHTS\"\n",
    "            ]\n",
    "\n",
    "departured_flights_df = departured_flights_df.reindex(columns = columns)"
   ]
  },
  {
   "cell_type": "code",
   "execution_count": null,
   "metadata": {},
   "outputs": [],
   "source": [
    "departured_flights_df.head()"
   ]
  },
  {
   "cell_type": "code",
   "execution_count": null,
   "metadata": {},
   "outputs": [],
   "source": [
    "path = \"../data/processed/departured_flights.csv\"\n",
    "departured_flights_df.to_csv(path_or_buf = path, index=False)"
   ]
  },
  {
   "cell_type": "markdown",
   "metadata": {},
   "source": [
    "---\n",
    "\n",
    "<body>\n",
    "     <h1> <b> Dataframes Necesarios </b> <br> <i> Dataframes Requires </i> </h1>\n",
    "     \n",
    "</body>\n"
   ]
  },
  {
   "cell_type": "markdown",
   "metadata": {},
   "source": [
    "<body>\n",
    "    <h2> Vuelos Retrasados </h2>\n",
    "</body>\n"
   ]
  },
  {
   "cell_type": "code",
   "execution_count": null,
   "metadata": {},
   "outputs": [],
   "source": [
    "delayed_flights_df = flights_df[\n",
    "    [\"DATE\",\n",
    "     \"AIRLINE\",\n",
    "     \"ORIGIN_AIRPORT\",\n",
    "     \"FLIGHT_NUMBER\"]].loc[(flights_df[\"CANCELLED\"] == 0) & (flights_df[\"DEPARTURE_DELAY\"] > 0)].groupby([\n",
    "         pd.Grouper(freq=\"M\", key=\"DATE\"),\n",
    "         \"AIRLINE\",\n",
    "         \"ORIGIN_AIRPORT\"]).count()\n"
   ]
  },
  {
   "cell_type": "code",
   "execution_count": null,
   "metadata": {},
   "outputs": [],
   "source": [
    "delayed_flights_df = delayed_flights_df.reset_index()"
   ]
  },
  {
   "cell_type": "code",
   "execution_count": null,
   "metadata": {},
   "outputs": [],
   "source": [
    "delayed_flights_df.rename(columns={\"FLIGHT_NUMBER\":\"NUMBER_OF_FLIGHTS\"}, inplace=True)"
   ]
  },
  {
   "cell_type": "code",
   "execution_count": null,
   "metadata": {},
   "outputs": [],
   "source": [
    "delayed_flights_df.head()"
   ]
  },
  {
   "cell_type": "code",
   "execution_count": null,
   "metadata": {},
   "outputs": [],
   "source": [
    "path = \"../data/interim/delayed_flights_df.csv\"\n",
    "delayed_flights_df.to_csv(path_or_buf = path, index=False)"
   ]
  },
  {
   "cell_type": "markdown",
   "metadata": {},
   "source": [
    "---\n",
    "\n",
    "<body>\n",
    "     <h1> <b> Carga de los Datos en Dataframes (Interim Data) </b> <br> <i> Set the Interim Data </i> </h1>\n",
    "     \n",
    "</body>\n"
   ]
  },
  {
   "cell_type": "code",
   "execution_count": null,
   "metadata": {},
   "outputs": [],
   "source": [
    "# Declarar los argumentos para cargar los datos en datasets: aerolíneas\n",
    "# / Define arguments to read the data: airlines.\n",
    "# Filepath.\n",
    "DIR_PATH09 = \"../data/interim/delayed_flights_df.csv\"\n",
    "# Encoding.\n",
    "ENC09 = \"utf-8\"\n",
    "# Separator.\n",
    "SEP09 = \",\"\n",
    "\n",
    "# Instanciar el dataframe (df)/ Read data\n",
    "delayed_flights_df = pd.read_csv(\n",
    "    filepath_or_buffer=DIR_PATH09, sep=SEP09, encoding=ENC09)\n",
    "\n",
    "# Inspeccionar el df/ Inspect df\n",
    "#departured_flights_df.head()"
   ]
  },
  {
   "cell_type": "code",
   "execution_count": null,
   "metadata": {},
   "outputs": [],
   "source": [
    "delayed_flights_df.groupby(by=\"DATE\").sum()\n"
   ]
  },
  {
   "cell_type": "code",
   "execution_count": null,
   "metadata": {},
   "outputs": [],
   "source": [
    "# Renombrar columna \"AIRLINE\"\n",
    "delayed_flights_df.rename(columns={\"AIRLINE\": \"IATA_CODE\"},\n",
    "                             inplace=True)\n",
    "\n",
    "# Mergeamos los df's \n",
    "lft = delayed_flights_df\n",
    "rght = airlines_df\n",
    "join = \"inner\"\n",
    "column_name = \"IATA_CODE\"\n",
    "\n",
    "delayed_flights_df = pd.merge(left=lft,\n",
    "                                 right=rght,\n",
    "                                 how=join,\n",
    "                                 on=column_name)\n"
   ]
  },
  {
   "cell_type": "code",
   "execution_count": null,
   "metadata": {},
   "outputs": [],
   "source": [
    "# Reordenamos las columnas del df meregeado\n",
    "columns = [\n",
    "            \"DATE\", \n",
    "            \"AIRLINE\", \n",
    "            \"ORIGIN_AIRPORT\", \n",
    "            \"NUMBER_OF_FLIGHTS\"\n",
    "            ]\n",
    "\n",
    "delayed_flights_df = delayed_flights_df.reindex(columns = columns)"
   ]
  },
  {
   "cell_type": "code",
   "execution_count": null,
   "metadata": {},
   "outputs": [],
   "source": [
    "# Renombrar columna \"AIRLINE\"\n",
    "delayed_flights_df.rename(columns={\"ORIGIN_AIRPORT\": \"IATA_CODE\"},\n",
    "                             inplace=True)"
   ]
  },
  {
   "cell_type": "code",
   "execution_count": null,
   "metadata": {},
   "outputs": [],
   "source": [
    "# Mergeamos los df's \n",
    "lft = delayed_flights_df\n",
    "rght = airports_df\n",
    "join = \"inner\"\n",
    "column_name = \"IATA_CODE\"\n",
    "\n",
    "delayed_flights_df = pd.merge(left=lft,\n",
    "                                 right=rght,\n",
    "                                 how=join,\n",
    "                                 on=column_name)"
   ]
  },
  {
   "cell_type": "code",
   "execution_count": null,
   "metadata": {},
   "outputs": [],
   "source": [
    "columns = [\n",
    "            \"DATE\", \n",
    "            \"AIRLINE\", \n",
    "            \"AIRPORT\",\n",
    "            \"CITY\",\n",
    "            \"STATE\",\n",
    "            \"COUNTRY\",\n",
    "            \"NUMBER_OF_FLIGHTS\"\n",
    "            ]\n",
    "\n",
    "delayed_flights_df = delayed_flights_df.reindex(columns = columns)"
   ]
  },
  {
   "cell_type": "code",
   "execution_count": null,
   "metadata": {},
   "outputs": [],
   "source": [
    "delayed_flights_df.head()"
   ]
  },
  {
   "cell_type": "code",
   "execution_count": null,
   "metadata": {},
   "outputs": [],
   "source": [
    "path = \"../data/processed/delayed_flights_df.csv\"\n",
    "delayed_flights_df.to_csv(path_or_buf = path, index=False)"
   ]
  },
  {
   "cell_type": "markdown",
   "metadata": {},
   "source": [
    "---\n",
    "\n",
    "<body>\n",
    "     <h1> <b> Dataframes Necesarios </b> <br> <i> Dataframes Requires </i> </h1>\n",
    "     \n",
    "</body>\n"
   ]
  },
  {
   "cell_type": "markdown",
   "metadata": {},
   "source": [
    "<body>\n",
    "    <h2> Vuelos Cancelados </h2>\n",
    "</body>\n"
   ]
  },
  {
   "cell_type": "code",
   "execution_count": null,
   "metadata": {},
   "outputs": [],
   "source": [
    "cancelled_flights_df = flights_df[\n",
    "    [\"DATE\",\n",
    "     \"AIRLINE\",\n",
    "     \"ORIGIN_AIRPORT\",\n",
    "     \"CANCELLATION_REASON\",\n",
    "     \"FLIGHT_NUMBER\"]].loc[(flights_df[\"CANCELLED\"] == 1)].groupby([\n",
    "         pd.Grouper(freq=\"M\", key=\"DATE\"),\n",
    "         \"AIRLINE\",\n",
    "         \"ORIGIN_AIRPORT\",\n",
    "         \"CANCELLATION_REASON\"]).count()\n"
   ]
  },
  {
   "cell_type": "code",
   "execution_count": null,
   "metadata": {},
   "outputs": [],
   "source": [
    "cancelled_flights_df = cancelled_flights_df.reset_index()"
   ]
  },
  {
   "cell_type": "code",
   "execution_count": null,
   "metadata": {},
   "outputs": [],
   "source": [
    "cancelled_flights_df.rename(columns={\"FLIGHT_NUMBER\":\"NUMBER_OF_FLIGHTS\"}, inplace=True)"
   ]
  },
  {
   "cell_type": "code",
   "execution_count": null,
   "metadata": {},
   "outputs": [],
   "source": [
    "cancelled_flights_df.head()"
   ]
  },
  {
   "cell_type": "code",
   "execution_count": null,
   "metadata": {},
   "outputs": [],
   "source": [
    "path = \"../data/interim/cancelled_flights_df.csv\"\n",
    "cancelled_flights_df.to_csv(path_or_buf = path, index=False)"
   ]
  },
  {
   "cell_type": "markdown",
   "metadata": {},
   "source": [
    "---\n",
    "\n",
    "<body>\n",
    "     <h1> <b> Carga de los Datos en Dataframes (Interim Data) </b> <br> <i> Set the Interim Data </i> </h1>\n",
    "     \n",
    "</body>\n"
   ]
  },
  {
   "cell_type": "code",
   "execution_count": null,
   "metadata": {},
   "outputs": [],
   "source": [
    "# Declarar los argumentos para cargar los datos en datasets: aerolíneas\n",
    "# / Define arguments to read the data: airlines.\n",
    "# Filepath.\n",
    "DIR_PATH10 = \"../data/interim/cancelled_flights_df.csv\"\n",
    "# Encoding.\n",
    "ENC10 = \"utf-8\"\n",
    "# Separator.\n",
    "SEP10 = \",\"\n",
    "\n",
    "# Instanciar el dataframe (df)/ Read data\n",
    "cancelled_flights_df = pd.read_csv(\n",
    "    filepath_or_buffer=DIR_PATH10, sep=SEP10, encoding=ENC10)\n",
    "\n",
    "# Inspeccionar el df/ Inspect df\n",
    "#departured_flights_df.head()"
   ]
  },
  {
   "cell_type": "code",
   "execution_count": null,
   "metadata": {},
   "outputs": [],
   "source": [
    "cancelled_flights_df.groupby(by=\"DATE\").sum()\n"
   ]
  },
  {
   "cell_type": "code",
   "execution_count": null,
   "metadata": {},
   "outputs": [],
   "source": [
    "# Renombrar columna \"AIRLINE\"\n",
    "cancelled_flights_df.rename(columns={\"AIRLINE\": \"IATA_CODE\"},\n",
    "                             inplace=True)\n",
    "\n",
    "# Mergeamos los df's \n",
    "lft = cancelled_flights_df\n",
    "rght = airlines_df\n",
    "join = \"inner\"\n",
    "column_name = \"IATA_CODE\"\n",
    "\n",
    "cancelled_flights_df = pd.merge(left=lft,\n",
    "                                 right=rght,\n",
    "                                 how=join,\n",
    "                                 on=column_name)\n"
   ]
  },
  {
   "cell_type": "code",
   "execution_count": null,
   "metadata": {},
   "outputs": [],
   "source": [
    "cancelled_flights_df.head()"
   ]
  },
  {
   "cell_type": "code",
   "execution_count": null,
   "metadata": {},
   "outputs": [],
   "source": [
    "# Reordenamos las columnas del df meregeado\n",
    "columns = [\n",
    "            \"DATE\", \n",
    "            \"AIRLINE\", \n",
    "            \"ORIGIN_AIRPORT\",\n",
    "            \"CANCELLATION_REASON\",\n",
    "            \"NUMBER_OF_FLIGHTS\"\n",
    "            ]\n",
    "\n",
    "cancelled_flights_df = cancelled_flights_df.reindex(columns = columns)"
   ]
  },
  {
   "cell_type": "code",
   "execution_count": null,
   "metadata": {},
   "outputs": [],
   "source": [
    "cancelled_flights_df.head()"
   ]
  },
  {
   "cell_type": "code",
   "execution_count": null,
   "metadata": {},
   "outputs": [],
   "source": [
    "# Renombrar columna \"AIRLINE\"\n",
    "cancelled_flights_df.rename(columns={\"ORIGIN_AIRPORT\": \"IATA_CODE\"},\n",
    "                             inplace=True)"
   ]
  },
  {
   "cell_type": "code",
   "execution_count": null,
   "metadata": {},
   "outputs": [],
   "source": [
    "# Mergeamos los df's \n",
    "lft = cancelled_flights_df\n",
    "rght = airports_df\n",
    "join = \"inner\"\n",
    "column_name = \"IATA_CODE\"\n",
    "\n",
    "cancelled_flights_df = pd.merge(left=lft,\n",
    "                                 right=rght,\n",
    "                                 how=join,\n",
    "                                 on=column_name)"
   ]
  },
  {
   "cell_type": "code",
   "execution_count": null,
   "metadata": {},
   "outputs": [],
   "source": [
    "cancelled_flights_df.head()"
   ]
  },
  {
   "cell_type": "code",
   "execution_count": null,
   "metadata": {},
   "outputs": [],
   "source": [
    "columns = [\n",
    "            \"DATE\", \n",
    "            \"AIRLINE\", \n",
    "            \"AIRPORT\",\n",
    "            \"CITY\",\n",
    "            \"STATE\",\n",
    "            \"COUNTRY\",\n",
    "            \"CANCELLATION_REASON\",\n",
    "            \"NUMBER_OF_FLIGHTS\"\n",
    "            ]\n",
    "\n",
    "cancelled_flights_df = cancelled_flights_df.reindex(columns = columns)"
   ]
  },
  {
   "cell_type": "code",
   "execution_count": null,
   "metadata": {},
   "outputs": [],
   "source": [
    "cancelled_flights_df.head()"
   ]
  },
  {
   "cell_type": "code",
   "execution_count": null,
   "metadata": {},
   "outputs": [],
   "source": [
    "# Renombrar columna \"AIRLINE\"\n",
    "cancelled_flights_df.rename(columns={\"ORIGIN_AIRPORT\": \"IATA_CODE\"},\n",
    "                             inplace=True)"
   ]
  },
  {
   "cell_type": "code",
   "execution_count": null,
   "metadata": {},
   "outputs": [],
   "source": [
    "# Mergeamos los df's \n",
    "lft = cancelled_flights_df\n",
    "rght = cancellation_codes_df\n",
    "join = \"inner\"\n",
    "column_name = \"CANCELLATION_REASON\"\n",
    "\n",
    "cancelled_flights_df = pd.merge(left=lft,\n",
    "                                 right=rght,\n",
    "                                 how=join,\n",
    "                                 on=column_name)"
   ]
  },
  {
   "cell_type": "code",
   "execution_count": null,
   "metadata": {},
   "outputs": [],
   "source": [
    "columns = [\n",
    "            \"DATE\", \n",
    "            \"AIRLINE\", \n",
    "            \"AIRPORT\",\n",
    "            \"CITY\",\n",
    "            \"STATE\",\n",
    "            \"COUNTRY\",\n",
    "            \"CANCELLATION_DESCRIPTION\",\n",
    "            \"NUMBER_OF_FLIGHTS\"\n",
    "            ]\n",
    "\n",
    "cancelled_flights_df = cancelled_flights_df.reindex(columns = columns)"
   ]
  },
  {
   "cell_type": "code",
   "execution_count": null,
   "metadata": {},
   "outputs": [],
   "source": [
    "cancelled_flights_df.head()"
   ]
  },
  {
   "cell_type": "code",
   "execution_count": null,
   "metadata": {},
   "outputs": [],
   "source": [
    "path = \"../data/processed/cancelled_flights_df.csv\"\n",
    "cancelled_flights_df.to_csv(path_or_buf = path, index=False)"
   ]
  }
 ],
 "metadata": {
  "kernelspec": {
   "display_name": "Python 3.10.4 ('data_science')",
   "language": "python",
   "name": "python3"
  },
  "language_info": {
   "codemirror_mode": {
    "name": "ipython",
    "version": 3
   },
   "file_extension": ".py",
   "mimetype": "text/x-python",
   "name": "python",
   "nbconvert_exporter": "python",
   "pygments_lexer": "ipython3",
   "version": "3.10.4"
  },
  "orig_nbformat": 4,
  "vscode": {
   "interpreter": {
    "hash": "31a0c43ff41ae622f952c4f39def96ce78060f0b20b6f53704971c45322cebf1"
   }
  }
 },
 "nbformat": 4,
 "nbformat_minor": 2
}
